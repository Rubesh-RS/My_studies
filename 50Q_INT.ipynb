{
 "cells": [
  {
   "cell_type": "code",
   "execution_count": 1,
   "id": "fa24aa18-6ea5-482e-b250-9694271178ba",
   "metadata": {},
   "outputs": [],
   "source": [
    "#1. Write a Python program to check if a given number is prime."
   ]
  },
  {
   "cell_type": "code",
   "execution_count": 3,
   "id": "e477fe29-2539-482d-9fa0-61e9c5f0476a",
   "metadata": {},
   "outputs": [
    {
     "name": "stdout",
     "output_type": "stream",
     "text": [
      "not-Prime\n"
     ]
    }
   ],
   "source": [
    "a=6\n",
    "flag=0\n",
    "for i in range(2,a):\n",
    "    if a%i==0:\n",
    "        flag=1\n",
    "if flag==0:\n",
    "    print(\"prime\")\n",
    "else:\n",
    "    print(\"not-Prime\")"
   ]
  },
  {
   "cell_type": "code",
   "execution_count": 4,
   "id": "8e6189d3-06a1-4154-9e50-b6fb84131c81",
   "metadata": {},
   "outputs": [],
   "source": [
    "#2. Implement a function to reverse a string in Python."
   ]
  },
  {
   "cell_type": "code",
   "execution_count": 5,
   "id": "7c781b30-2c46-4a0d-b98f-ed1ac1d60669",
   "metadata": {},
   "outputs": [
    {
     "name": "stdout",
     "output_type": "stream",
     "text": [
      "HSEBUR\n"
     ]
    }
   ],
   "source": [
    "a=\"RUBESH\"\n",
    "print(a[::-1])"
   ]
  },
  {
   "cell_type": "code",
   "execution_count": 18,
   "id": "fe411544-a1cf-4d21-bcef-2926e5f624c0",
   "metadata": {},
   "outputs": [
    {
     "name": "stdout",
     "output_type": "stream",
     "text": [
      "HSEBUR"
     ]
    }
   ],
   "source": [
    "a=\"RUBESH\"\n",
    "len(a)\n",
    "for i in range(len(a)-1,-1,-1):\n",
    "    print(a[i],end=\"\")"
   ]
  },
  {
   "cell_type": "code",
   "execution_count": 19,
   "id": "b79877fb-0254-4697-975b-01cc8fe077bd",
   "metadata": {},
   "outputs": [],
   "source": [
    "#3. Write a program to find the largest element in a list."
   ]
  },
  {
   "cell_type": "code",
   "execution_count": 20,
   "id": "eda7acf2-06ae-4c30-937f-dbc41bbd5745",
   "metadata": {},
   "outputs": [
    {
     "name": "stdout",
     "output_type": "stream",
     "text": [
      "23235\n"
     ]
    }
   ],
   "source": [
    "a= [1,2,3,4,5,3,5,634,4,2,34,4,23235,4,324,45,32]\n",
    "print(max(a))"
   ]
  },
  {
   "cell_type": "code",
   "execution_count": 23,
   "id": "3f3b995e-0eb2-4e95-a0c3-130ab6855ad5",
   "metadata": {
    "editable": true,
    "slideshow": {
     "slide_type": ""
    },
    "tags": []
   },
   "outputs": [
    {
     "name": "stdout",
     "output_type": "stream",
     "text": [
      "23235\n"
     ]
    }
   ],
   "source": [
    "max=0\n",
    "for i in range(len(a)):\n",
    "    if max<=a[i]:\n",
    "        max=a[i]\n",
    "print(max)"
   ]
  },
  {
   "cell_type": "code",
   "execution_count": 68,
   "id": "06c74c42-ad91-4986-98d9-6862bee479fe",
   "metadata": {},
   "outputs": [
    {
     "name": "stdout",
     "output_type": "stream",
     "text": [
      "RUBESH\n",
      "1998\n",
      "Im born in 1998\n",
      "Im born in 1999\n"
     ]
    }
   ],
   "source": [
    "#4. Explain Python's @staticmethod and @classmethod. Provide examples.\n",
    "\n",
    "class age_calc:\n",
    "    def __init__(self ,name, age):\n",
    "        self.age=age\n",
    "        self.name=name\n",
    "    def birthyear(self):\n",
    "        return f\"Im born in {self.age}\"\n",
    "\n",
    "    @classmethod\n",
    "    def age_calculator(cls, name,a):\n",
    "        age=a-1\n",
    "        return cls(name, age)\n",
    "person = age_calc.age_calculator(\"RUBESH\",1999)\n",
    "print(person.name)\n",
    "print(person.age)\n",
    "print(person.birthyear())\n",
    "a=age_calc(\"RUBESH\",1999)\n",
    "print(a.birthyear())"
   ]
  },
  {
   "cell_type": "code",
   "execution_count": 1,
   "id": "93ae3f1d-157e-4165-aa8f-de50dea55ab1",
   "metadata": {},
   "outputs": [],
   "source": [
    "#5. Write a Python function to calculate the factorial of a number using recursion."
   ]
  },
  {
   "cell_type": "code",
   "execution_count": 4,
   "id": "abf5c96b-88ea-4349-8274-2a3d167f1f6d",
   "metadata": {},
   "outputs": [
    {
     "name": "stdout",
     "output_type": "stream",
     "text": [
      "3628800\n"
     ]
    }
   ],
   "source": [
    "def factl(a):\n",
    "    if a==0 or a==1:\n",
    "        return 1\n",
    "    else:\n",
    "        return a * factl(a-1)\n",
    "nd=factl(10)\n",
    "print(nd)"
   ]
  },
  {
   "cell_type": "code",
   "execution_count": 5,
   "id": "a653b540-10da-423f-bb7f-e5eaab3b9841",
   "metadata": {},
   "outputs": [],
   "source": [
    "#6. Explain the difference between deepcopy and shallowcopy in Python."
   ]
  },
  {
   "cell_type": "code",
   "execution_count": 6,
   "id": "b9a11042-8174-45b1-ae01-0d37b92a7644",
   "metadata": {},
   "outputs": [
    {
     "name": "stdout",
     "output_type": "stream",
     "text": [
      "[1, 2, 3, 4, 5, 6, 7, 8, 9, 0]\n",
      "[1, 2, 3, 4, 5, 6, 7, 8, 9, 0]\n",
      "[[99, 2, 3], [4, 5, 6]]\n",
      "[[99, 2, 3], [4, 5, 6]]\n"
     ]
    }
   ],
   "source": [
    "#shallow copy\n",
    "import copy\n",
    "a=[1,2,3,4,5,6,7,8,9,10]\n",
    "b=a\n",
    "b[9]=0\n",
    "\n",
    "print(a)\n",
    "print(b)\n",
    "\n",
    "original = [[1, 2, 3], [4, 5, 6]]\n",
    "shallow_copied = copy.copy(original)\n",
    "\n",
    "shallow_copied[0][0] = 99  # Modify a nested object\n",
    "print(original)            # [[99, 2, 3], [4, 5, 6]]\n",
    "print(shallow_copied)      # [[99, 2, 3], [4, 5, 6]]\n"
   ]
  },
  {
   "cell_type": "code",
   "execution_count": 7,
   "id": "4146ad6b-ade5-49f7-867b-48f7b3c47055",
   "metadata": {},
   "outputs": [
    {
     "name": "stdout",
     "output_type": "stream",
     "text": [
      "[[1, 2, 3], [4, 5, 6]]\n",
      "[[99, 2, 3], [4, 5, 6]]\n"
     ]
    }
   ],
   "source": [
    "#deep copy\n",
    "import copy\n",
    "\n",
    "original = [[1, 2, 3], [4, 5, 6]]\n",
    "deep_copied = copy.deepcopy(original)\n",
    "\n",
    "deep_copied[0][0] = 99  # Modify a nested object\n",
    "print(original)          # [[1, 2, 3], [4, 5, 6]]\n",
    "print(deep_copied)       # [[99, 2, 3], [4, 5, 6]]"
   ]
  },
  {
   "cell_type": "code",
   "execution_count": 8,
   "id": "f30d253a-a4a5-4942-89b8-389d6ef0fd51",
   "metadata": {},
   "outputs": [],
   "source": [
    "#7. Write a Python program to count the occurrences of each element in a list."
   ]
  },
  {
   "cell_type": "code",
   "execution_count": 9,
   "id": "b9478fcf-c505-44bc-bb18-a6bbe42f12c3",
   "metadata": {},
   "outputs": [
    {
     "name": "stdout",
     "output_type": "stream",
     "text": [
      "Element occurrences: Counter({4: 4, 3: 3, 2: 2, 1: 1})\n"
     ]
    }
   ],
   "source": [
    "from collections import Counter\n",
    "\n",
    "data = [1, 2, 2, 3, 3, 3, 4, 4, 4, 4]\n",
    "result = Counter(data)\n",
    "print(\"Element occurrences:\", result)"
   ]
  },
  {
   "cell_type": "code",
   "execution_count": 16,
   "id": "64fec2d4-e9d1-4b63-bf3d-6dc778bc1235",
   "metadata": {},
   "outputs": [
    {
     "name": "stdout",
     "output_type": "stream",
     "text": [
      "the 1 has 1 counts\n",
      "the 2 has 2 counts\n",
      "the 3 has 4 counts\n",
      "the 4 has 4 counts\n"
     ]
    }
   ],
   "source": [
    "data = [1, 2, 2, 3, 3, 3, 3, 4, 4, 4, 4]\n",
    "subdata = set(data)\n",
    "count=0\n",
    "for i in subdata:\n",
    "    count = data.count(i)\n",
    "    print(f\"the {i} has {count} counts\")"
   ]
  },
  {
   "cell_type": "code",
   "execution_count": 17,
   "id": "b42d34c6-e44d-40fb-8f4c-df10c511d1eb",
   "metadata": {},
   "outputs": [],
   "source": [
    "#8. Explain the difference between is and ==."
   ]
  },
  {
   "cell_type": "code",
   "execution_count": 1,
   "id": "de4b6813-24a5-48d9-b635-ed4500284213",
   "metadata": {},
   "outputs": [
    {
     "name": "stdout",
     "output_type": "stream",
     "text": [
      "True\n",
      "False\n"
     ]
    }
   ],
   "source": [
    "a = [1, 2, 3]\n",
    "b = a\n",
    "c = [1, 2, 3]\n",
    "\n",
    "print(a is b)  # True, both refer to the same object\n",
    "print(a is c)  # False, they have the same content but are different objects"
   ]
  },
  {
   "cell_type": "code",
   "execution_count": 2,
   "id": "37bfc12c-a3be-4225-b1e5-ef4f2d5affd7",
   "metadata": {},
   "outputs": [
    {
     "name": "stdout",
     "output_type": "stream",
     "text": [
      "True\n",
      "True\n"
     ]
    }
   ],
   "source": [
    "a = [1, 2, 3]\n",
    "b = a\n",
    "c = [1, 2, 3]\n",
    "\n",
    "print(a == b)  # True, the values are the same\n",
    "print(a == c)  # True, the values are the same\n"
   ]
  },
  {
   "cell_type": "code",
   "execution_count": 19,
   "id": "7b7cbc83-6acb-4c1c-808a-50e39888bba5",
   "metadata": {},
   "outputs": [],
   "source": [
    "#9. Write a function to check if a string is a palindrome."
   ]
  },
  {
   "cell_type": "code",
   "execution_count": 23,
   "id": "f3bd569c-859c-48ed-81a7-dab11c0be288",
   "metadata": {},
   "outputs": [
    {
     "name": "stdout",
     "output_type": "stream",
     "text": [
      "zaazaaz is a Palindrome\n"
     ]
    }
   ],
   "source": [
    "a=\"zaazaaz\"\n",
    "if a == a[::-1]:\n",
    "    print(f\"{a} is a Palindrome\")\n",
    "else:\n",
    "    print(f\"{a} is not a Palindrome\")"
   ]
  },
  {
   "cell_type": "code",
   "execution_count": 24,
   "id": "d4d4d84c-b3c8-4974-b756-e24b35297b17",
   "metadata": {},
   "outputs": [
    {
     "name": "stdin",
     "output_type": "stream",
     "text": [
      "Enter a string:  fifif\n"
     ]
    },
    {
     "name": "stdout",
     "output_type": "stream",
     "text": [
      "\"fifif\" is a palindrome.\n"
     ]
    }
   ],
   "source": [
    "def is_palindrome(s):\n",
    "    s = ''.join(c.lower() for c in s if c.isalnum())\n",
    "    return s == s[::-1]\n",
    "\n",
    "if __name__ == \"__main__\":\n",
    "    test_string = input(\"Enter a string: \")\n",
    "    if is_palindrome(test_string):\n",
    "        print(f'\"{test_string}\" is a palindrome.')\n",
    "    else:\n",
    "        print(f'\"{test_string}\" is not a palindrome.')\n"
   ]
  },
  {
   "cell_type": "code",
   "execution_count": 25,
   "id": "a9b8cf32-d6ac-4ab7-a6b8-541e8ace772d",
   "metadata": {},
   "outputs": [],
   "source": [
    "#10. Implement a Python program to merge two sorted lists."
   ]
  },
  {
   "cell_type": "code",
   "execution_count": 27,
   "id": "b44cfe9a-4d51-4ee6-94aa-501d3a53314e",
   "metadata": {},
   "outputs": [
    {
     "name": "stdout",
     "output_type": "stream",
     "text": [
      "[1, 2, 3, 4, 5, 6, 7, 8, 9, 10]\n"
     ]
    }
   ],
   "source": [
    "a=[1,2,3,4,5]\n",
    "b=[6,7,8,9,10]\n",
    "c = a+b\n",
    "print(c)"
   ]
  },
  {
   "cell_type": "code",
   "execution_count": 1,
   "id": "9609f5ef-51a7-46f4-9597-3048bfb49adb",
   "metadata": {},
   "outputs": [],
   "source": [
    "#11. Write a program to find the GCD of two numbers using Euclid's algorithm."
   ]
  },
  {
   "cell_type": "code",
   "execution_count": 3,
   "id": "2711afdd-4d85-42fb-82d0-e16ea8ba2fd8",
   "metadata": {},
   "outputs": [
    {
     "name": "stdout",
     "output_type": "stream",
     "text": [
      "5\n"
     ]
    }
   ],
   "source": [
    "a=10\n",
    "b=15\n",
    "while b!=0:\n",
    "    a,b=b,a%b\n",
    "print(a)"
   ]
  },
  {
   "cell_type": "code",
   "execution_count": 4,
   "id": "9e767259-ae59-4a7a-88f3-9405aecde675",
   "metadata": {},
   "outputs": [],
   "source": [
    "#12. Explain Python's Global Interpreter Lock (GIL). How does it affect multithreading?"
   ]
  },
  {
   "cell_type": "code",
   "execution_count": 6,
   "id": "d1e79b97-8ae6-41b3-a9c3-36601ae37b75",
   "metadata": {},
   "outputs": [],
   "source": [
    "# the Global Interpreter Lock (GIL) is specific to certain Python implementations, particularly CPython, which is the most widely used implementation of Python. It is not present in all Python execution environments\n",
    "# The GIL simplifies memory management in CPython but limits the ability to achieve true parallelism in multithreaded CPU-bound tasks. While it does not affect I/O-bound programs significantly, for computationally intensive tasks, using multiprocessing or alternative Python implementations can help achieve better performance."
   ]
  },
  {
   "cell_type": "code",
   "execution_count": 14,
   "id": "36d01f1f-b305-4e1b-ba4a-5d4d4304450e",
   "metadata": {},
   "outputs": [],
   "source": [
    "#13. Implement a Python program to remove duplicate elements from a list while maintaining order."
   ]
  },
  {
   "cell_type": "code",
   "execution_count": 15,
   "id": "92fe7132-1d9d-40c2-a2c5-91df8b80c3fe",
   "metadata": {},
   "outputs": [
    {
     "name": "stdout",
     "output_type": "stream",
     "text": [
      "[1, 2, 3, 4]\n"
     ]
    }
   ],
   "source": [
    "lst=[1,2,2,3,3,3,4,4,4,4,1]\n",
    "a=[]\n",
    "sen=set()\n",
    "for i in lst:\n",
    "    if i not in sen:\n",
    "        a.append(i)\n",
    "        sen.add(i)\n",
    "print(a)"
   ]
  },
  {
   "cell_type": "code",
   "execution_count": 16,
   "id": "7d63657a-5b01-47d0-8e50-cdcac104fc6c",
   "metadata": {},
   "outputs": [],
   "source": [
    "#14. Write a Python script to generate the Fibonacci series up to n terms."
   ]
  },
  {
   "cell_type": "code",
   "execution_count": 23,
   "id": "989ca95d-7cd5-4005-8f01-312e204d909c",
   "metadata": {},
   "outputs": [
    {
     "name": "stdout",
     "output_type": "stream",
     "text": [
      "55\n"
     ]
    }
   ],
   "source": [
    "n=10\n",
    "a,b=0,1\n",
    "for i in range(n):\n",
    "    a,b=b,a+b\n",
    "print(a)"
   ]
  },
  {
   "cell_type": "code",
   "execution_count": 24,
   "id": "bc525010-79c9-44f2-b2a9-640cb02f226c",
   "metadata": {},
   "outputs": [
    {
     "name": "stdout",
     "output_type": "stream",
     "text": [
      "Fibonacci series: [0, 1, 1, 2, 3, 5, 8, 13, 21, 34, 55]\n"
     ]
    }
   ],
   "source": [
    "def fibonacci(n):\n",
    "    \"\"\"Generates the Fibonacci series up to n terms.\"\"\"\n",
    "\n",
    "    a, b = 0, 1\n",
    "    result = []\n",
    "\n",
    "    if n <= 0:\n",
    "        return result\n",
    "    elif n == 1:\n",
    "        return [a]\n",
    "    else:\n",
    "        result.extend([a, b])\n",
    "\n",
    "        while len(result) <= n:\n",
    "            next_term = a + b\n",
    "            result.append(next_term)\n",
    "            a, b = b, next_term\n",
    "\n",
    "        return result\n",
    "\n",
    "# Get the number of terms from the user\n",
    "n = 10\n",
    "\n",
    "# Generate and print the Fibonacci series\n",
    "print(\"Fibonacci series:\", fibonacci(n))"
   ]
  },
  {
   "cell_type": "code",
   "execution_count": 26,
   "id": "1e7af896-ba51-4235-a3b5-857b3d596979",
   "metadata": {},
   "outputs": [
    {
     "name": "stdout",
     "output_type": "stream",
     "text": [
      "55\n"
     ]
    }
   ],
   "source": [
    "#recursion\n",
    "def fibo(n):\n",
    "    if n==0:\n",
    "        return 0\n",
    "    else:\n",
    "        return n+fibo(n-1)\n",
    "print(fibo(10))"
   ]
  },
  {
   "cell_type": "code",
   "execution_count": 27,
   "id": "7c66534d-a522-4754-9122-e3a7dd79aac7",
   "metadata": {},
   "outputs": [],
   "source": [
    "#15. What are Python decorators? Write a decorator to time the execution of a function."
   ]
  },
  {
   "cell_type": "code",
   "execution_count": 32,
   "id": "d0726d19-6e5c-4a59-b7bc-d782bd86199b",
   "metadata": {},
   "outputs": [
    {
     "name": "stdout",
     "output_type": "stream",
     "text": [
      "Before hello\n",
      "Hello World\n",
      "after hello\n"
     ]
    }
   ],
   "source": [
    "def smart(func):\n",
    "    def wrapper():\n",
    "        print(\"Before hello\")\n",
    "        func()\n",
    "        print(\"after hello\")\n",
    "    return wrapper \n",
    "\n",
    "@smart\n",
    "def hell():\n",
    "    print(\"Hello World\")\n",
    "\n",
    "hell()"
   ]
  },
  {
   "cell_type": "code",
   "execution_count": 33,
   "id": "15c2404f-a6df-4da2-8116-c39306e037fd",
   "metadata": {},
   "outputs": [
    {
     "name": "stdin",
     "output_type": "stream",
     "text": [
      "Enter a number:  10\n"
     ]
    },
    {
     "name": "stdout",
     "output_type": "stream",
     "text": [
      "Function 'sample_function' executed in 0.000003 seconds.\n",
      "Result: 45\n"
     ]
    }
   ],
   "source": [
    "import time\n",
    "\n",
    "def timing_decorator(func):\n",
    "    \"\"\"\n",
    "    Decorator to measure the execution time of a function.\n",
    "    \"\"\"\n",
    "    def wrapper(*args, **kwargs):\n",
    "        start_time = time.time()  # Record start time\n",
    "        result = func(*args, **kwargs)  # Call the original function\n",
    "        end_time = time.time()  # Record end time\n",
    "        print(f\"Function '{func.__name__}' executed in {end_time - start_time:.6f} seconds.\")\n",
    "        return result\n",
    "    return wrapper\n",
    "\n",
    "# Example usage\n",
    "@timing_decorator\n",
    "def sample_function(n):\n",
    "    \"\"\"\n",
    "    Sample function that simulates a time-consuming task.\n",
    "    \"\"\"\n",
    "    total = 0\n",
    "    for i in range(n):\n",
    "        total += i\n",
    "    return total\n",
    "\n",
    "if __name__ == \"__main__\":\n",
    "    n = int(input(\"Enter a number: \"))\n",
    "    print(f\"Result: {sample_function(n)}\")\n"
   ]
  },
  {
   "cell_type": "code",
   "execution_count": 1,
   "id": "1c15c415-30af-485e-aaf3-eb6fed101ed2",
   "metadata": {},
   "outputs": [],
   "source": [
    "#16. Write a function to flatten a nested list."
   ]
  },
  {
   "cell_type": "code",
   "execution_count": 2,
   "id": "dee37099-1066-4f64-a438-9f11cdd5ad72",
   "metadata": {},
   "outputs": [
    {
     "name": "stdout",
     "output_type": "stream",
     "text": [
      "[[1, [2, [3, 4], 5], 6, [[7], 8]]]\n",
      "[] before\n",
      "[1, [2, [3, 4], 5], 6, [[7], 8]] popped\n",
      "[[[7], 8], 6, [2, [3, 4], 5], 1] after\n",
      "[[[7], 8], 6, [2, [3, 4], 5]] NOT_LIST\n",
      "[[[7], 8], 6] before\n",
      "[2, [3, 4], 5] popped\n",
      "[[[7], 8], 6, 5, [3, 4], 2] after\n",
      "[[[7], 8], 6, 5, [3, 4]] NOT_LIST\n",
      "[[[7], 8], 6, 5] before\n",
      "[3, 4] popped\n",
      "[[[7], 8], 6, 5, 4, 3] after\n",
      "[[[7], 8], 6, 5, 4] NOT_LIST\n",
      "[[[7], 8], 6, 5] NOT_LIST\n",
      "[[[7], 8], 6] NOT_LIST\n",
      "[[[7], 8]] NOT_LIST\n",
      "[] before\n",
      "[[7], 8] popped\n",
      "[8, [7]] after\n",
      "[8] before\n",
      "[7] popped\n",
      "[8, 7] after\n",
      "[8] NOT_LIST\n",
      "[] NOT_LIST\n",
      "[1, 2, 3, 4, 5, 6, 7, 8]\n"
     ]
    }
   ],
   "source": [
    "#without recursion\n",
    "def flatten_list_iterative(nested_list):\n",
    "    \"\"\"\n",
    "    Flattens a nested list into a single-level list using iteration.\n",
    "\n",
    "    Args:\n",
    "        nested_list (list): A list that can contain nested lists.\n",
    "\n",
    "    Returns:\n",
    "        list: A single-level flattened list.\n",
    "    \"\"\"\n",
    "    flattened = []\n",
    "    stack = [nested_list]\n",
    "    print(stack)  # Use a stack to process items\n",
    "    while stack:\n",
    "        current = stack.pop()\n",
    "        if isinstance(current, list):\n",
    "            # Add elements of the list to the stack in reverse order\n",
    "            print(stack,\"before\")\n",
    "            stack.extend(reversed(current))\n",
    "            print(current,\"popped\")\n",
    "            print(stack,\"after\")\n",
    "        else:\n",
    "            print(stack,\"NOT_LIST\")\n",
    "            flattened.append(current)\n",
    "    \n",
    "    return flattened\n",
    "\n",
    "# Example usage\n",
    "nested = [1, [2, [3, 4], 5], 6, [[7], 8]]\n",
    "print(flatten_list_iterative(nested))"
   ]
  },
  {
   "cell_type": "code",
   "execution_count": 3,
   "id": "4ae0b5b3-b62f-4b06-8fad-34c043fe7b92",
   "metadata": {},
   "outputs": [
    {
     "name": "stdout",
     "output_type": "stream",
     "text": [
      "[1, 2, 3, 4, 5, 6, 7, 8]\n"
     ]
    }
   ],
   "source": [
    "def flatten_list(nested_list):\n",
    "    \"\"\"\n",
    "    Flattens a nested list into a single-level list.\n",
    "    \n",
    "    Args:\n",
    "        nested_list (list): A list that can contain nested lists.\n",
    "    \n",
    "    Returns:\n",
    "        list: A single-level flattened list.\n",
    "    \"\"\"\n",
    "    flattened = []\n",
    "    for item in nested_list:\n",
    "        if isinstance(item, list):\n",
    "            # Recursively flatten the nested list\n",
    "            flattened.extend(flatten_list(item))\n",
    "        else:\n",
    "            # Append non-list items directly\n",
    "            flattened.append(item)\n",
    "    return flattened\n",
    "\n",
    "# Example usage\n",
    "nested = [1, [2, [3, 4], 5], 6, [[7], 8]]\n",
    "print(flatten_list(nested))\n"
   ]
  },
  {
   "cell_type": "code",
   "execution_count": 1,
   "id": "4e3ebac6-9642-4e69-9058-9ffd06c684e8",
   "metadata": {},
   "outputs": [],
   "source": [
    "#17. Explain the differences between Python 2 and Python 3."
   ]
  },
  {
   "cell_type": "code",
   "execution_count": 2,
   "id": "c04cc5bc-22c8-40e7-afd9-cf0f427d0fe9",
   "metadata": {},
   "outputs": [],
   "source": [
    "# 1. Print Statement vs. Print Function\n",
    "# Python 2: print is a statement, not a function. Parentheses are optional.\n",
    "# python\n",
    "# Copy\n",
    "# Edit\n",
    "# print \"Hello, World!\"\n",
    "# Python 3: print is a function, requiring parentheses.\n",
    "# python\n",
    "# Copy\n",
    "# Edit\n",
    "# print(\"Hello, World!\")\n",
    "# 2. Integer Division\n",
    "# Python 2: Division of integers truncates the result to an integer.\n",
    "# python\n",
    "# Copy\n",
    "# Edit\n",
    "# print(5 / 2)  # Output: 2\n",
    "# Python 3: Division returns a float by default. Use // for integer division.\n",
    "# python\n",
    "# Copy\n",
    "# Edit\n",
    "# print(5 / 2)  # Output: 2.5\n",
    "# print(5 // 2)  # Output: 2\n",
    "# 3. Unicode Support\n",
    "# Python 2: Strings are by default ASCII, and you need a u prefix for Unicode strings.\n",
    "# python\n",
    "# Copy\n",
    "# Edit\n",
    "# print u\"Unicode string\"  # Unicode\n",
    "# print \"ASCII string\"  # Default\n",
    "# Python 3: Strings are Unicode by default.\n",
    "# python\n",
    "# Copy\n",
    "# Edit\n",
    "# print(\"Unicode string\")  # Default\n",
    "# 4. Input Handling\n",
    "# Python 2: input() evaluates input as Python code. Use raw_input() for strings.\n",
    "# python\n",
    "# Copy\n",
    "# Edit\n",
    "# name = raw_input(\"Enter your name: \")  # String input\n",
    "# Python 3: input() always returns a string.\n",
    "# python\n",
    "# Copy\n",
    "# Edit\n",
    "# name = input(\"Enter your name: \")  # String input\n",
    "# 5. Iterators\n",
    "# Python 2: Functions like range() return a list, which consumes more memory.\n",
    "# python\n",
    "# Copy\n",
    "# Edit\n",
    "# print(range(5))  # Output: [0, 1, 2, 3, 4]\n",
    "# Python 3: range() returns a generator-like object, which is memory-efficient.\n",
    "# python\n",
    "# Copy\n",
    "# Edit\n",
    "# print(range(5))  # Output: range(0, 5)\n",
    "# print(list(range(5)))  # Output: [0, 1, 2, 3, 4]\n",
    "# 6. Libraries\n",
    "# Python 2: Many libraries were designed for Python 2 and may not be compatible with Python 3.\n",
    "# Python 3: Modern libraries are developed for Python 3, as Python 2 reached its end of life on January 1, 2020.\n",
    "# 7. Exception Handling\n",
    "# Python 2: Exceptions are handled using an older syntax.\n",
    "# python\n",
    "# Copy\n",
    "# Edit\n",
    "# try:\n",
    "#     raise Exception(\"Error\")\n",
    "# except Exception, e:  # Deprecated syntax\n",
    "#     print(e)\n",
    "# Python 3: Exceptions require as for assignment.\n",
    "# python\n",
    "# Copy\n",
    "# Edit\n",
    "# try:\n",
    "#     raise Exception(\"Error\")\n",
    "# except Exception as e:\n",
    "#     print(e)\n"
   ]
  },
  {
   "cell_type": "code",
   "execution_count": 1,
   "id": "3a5141eb-acc7-4d45-b68e-a940dc34b343",
   "metadata": {},
   "outputs": [],
   "source": [
    "#19. Write a Python program to find the longest common prefix among a list of strings."
   ]
  },
  {
   "cell_type": "code",
   "execution_count": 3,
   "id": "523d3b6f-ff1d-4876-b9e2-041ed70ba1fd",
   "metadata": {},
   "outputs": [
    {
     "name": "stdout",
     "output_type": "stream",
     "text": [
      "The longest common prefix is: 'fl'\n"
     ]
    }
   ],
   "source": [
    "def longest_common_prefix(strings):\n",
    "    if not strings:\n",
    "        return \"\"\n",
    "\n",
    "    # Start with the first string as the prefix\n",
    "    prefix = strings[0]\n",
    "\n",
    "    # Compare the prefix with each string\n",
    "    for string in strings[1:]:\n",
    "        while string[:len(prefix)] != prefix and prefix:\n",
    "            # Shorten the prefix if it doesn't match\n",
    "            prefix = prefix[:-1]\n",
    "\n",
    "        # If there's no common prefix, return an empty string\n",
    "        if not prefix:\n",
    "            return \"\"\n",
    "\n",
    "    return prefix\n",
    "\n",
    "# Example usage\n",
    "strings = [\"flower\", \"flow\", \"flight\"]\n",
    "result = longest_common_prefix(strings)\n",
    "print(f\"The longest common prefix is: '{result}'\")\n"
   ]
  },
  {
   "cell_type": "code",
   "execution_count": 4,
   "id": "202e94e3-5ace-4708-bea4-1ee4c1496c81",
   "metadata": {},
   "outputs": [],
   "source": [
    "#20. Demonstrate how to use Python's argparse library to handle command-line arguments."
   ]
  },
  {
   "cell_type": "code",
   "execution_count": null,
   "id": "38c86068-f8e0-419d-a2cd-3005ee5bbc3e",
   "metadata": {},
   "outputs": [],
   "source": []
  }
 ],
 "metadata": {
  "kernelspec": {
   "display_name": "Python 3 (ipykernel)",
   "language": "python",
   "name": "python3"
  },
  "language_info": {
   "codemirror_mode": {
    "name": "ipython",
    "version": 3
   },
   "file_extension": ".py",
   "mimetype": "text/x-python",
   "name": "python",
   "nbconvert_exporter": "python",
   "pygments_lexer": "ipython3",
   "version": "3.13.0"
  }
 },
 "nbformat": 4,
 "nbformat_minor": 5
}
