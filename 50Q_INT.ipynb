{
 "cells": [
  {
   "cell_type": "code",
   "execution_count": 1,
   "id": "fa24aa18-6ea5-482e-b250-9694271178ba",
   "metadata": {},
   "outputs": [],
   "source": [
    "#1. Write a Python program to check if a given number is prime."
   ]
  },
  {
   "cell_type": "code",
   "execution_count": 3,
   "id": "e477fe29-2539-482d-9fa0-61e9c5f0476a",
   "metadata": {},
   "outputs": [
    {
     "name": "stdout",
     "output_type": "stream",
     "text": [
      "not-Prime\n"
     ]
    }
   ],
   "source": [
    "a=6\n",
    "flag=0\n",
    "for i in range(2,a):\n",
    "    if a%i==0:\n",
    "        flag=1\n",
    "if flag==0:\n",
    "    print(\"prime\")\n",
    "else:\n",
    "    print(\"not-Prime\")"
   ]
  },
  {
   "cell_type": "code",
   "execution_count": 4,
   "id": "8e6189d3-06a1-4154-9e50-b6fb84131c81",
   "metadata": {},
   "outputs": [],
   "source": [
    "#2. Implement a function to reverse a string in Python."
   ]
  },
  {
   "cell_type": "code",
   "execution_count": 5,
   "id": "7c781b30-2c46-4a0d-b98f-ed1ac1d60669",
   "metadata": {},
   "outputs": [
    {
     "name": "stdout",
     "output_type": "stream",
     "text": [
      "HSEBUR\n"
     ]
    }
   ],
   "source": [
    "a=\"RUBESH\"\n",
    "print(a[::-1])"
   ]
  },
  {
   "cell_type": "code",
   "execution_count": 18,
   "id": "fe411544-a1cf-4d21-bcef-2926e5f624c0",
   "metadata": {},
   "outputs": [
    {
     "name": "stdout",
     "output_type": "stream",
     "text": [
      "HSEBUR"
     ]
    }
   ],
   "source": [
    "a=\"RUBESH\"\n",
    "len(a)\n",
    "for i in range(len(a)-1,-1,-1):\n",
    "    print(a[i],end=\"\")"
   ]
  },
  {
   "cell_type": "code",
   "execution_count": 19,
   "id": "b79877fb-0254-4697-975b-01cc8fe077bd",
   "metadata": {},
   "outputs": [],
   "source": [
    "#3. Write a program to find the largest element in a list."
   ]
  },
  {
   "cell_type": "code",
   "execution_count": 20,
   "id": "eda7acf2-06ae-4c30-937f-dbc41bbd5745",
   "metadata": {},
   "outputs": [
    {
     "name": "stdout",
     "output_type": "stream",
     "text": [
      "23235\n"
     ]
    }
   ],
   "source": [
    "a= [1,2,3,4,5,3,5,634,4,2,34,4,23235,4,324,45,32]\n",
    "print(max(a))"
   ]
  },
  {
   "cell_type": "code",
   "execution_count": 23,
   "id": "3f3b995e-0eb2-4e95-a0c3-130ab6855ad5",
   "metadata": {
    "editable": true,
    "slideshow": {
     "slide_type": ""
    },
    "tags": []
   },
   "outputs": [
    {
     "name": "stdout",
     "output_type": "stream",
     "text": [
      "23235\n"
     ]
    }
   ],
   "source": [
    "max=0\n",
    "for i in range(len(a)):\n",
    "    if max<=a[i]:\n",
    "        max=a[i]\n",
    "print(max)"
   ]
  },
  {
   "cell_type": "code",
   "execution_count": 68,
   "id": "06c74c42-ad91-4986-98d9-6862bee479fe",
   "metadata": {},
   "outputs": [
    {
     "name": "stdout",
     "output_type": "stream",
     "text": [
      "RUBESH\n",
      "1998\n",
      "Im born in 1998\n",
      "Im born in 1999\n"
     ]
    }
   ],
   "source": [
    "#4. Explain Python's @staticmethod and @classmethod. Provide examples.\n",
    "\n",
    "class age_calc:\n",
    "    def __init__(self ,name, age):\n",
    "        self.age=age\n",
    "        self.name=name\n",
    "    def birthyear(self):\n",
    "        return f\"Im born in {self.age}\"\n",
    "\n",
    "    @classmethod\n",
    "    def age_calculator(cls, name,a):\n",
    "        age=a-1\n",
    "        return cls(name, age)\n",
    "person = age_calc.age_calculator(\"RUBESH\",1999)\n",
    "print(person.name)\n",
    "print(person.age)\n",
    "print(person.birthyear())\n",
    "a=age_calc(\"RUBESH\",1999)\n",
    "print(a.birthyear())"
   ]
  },
  {
   "cell_type": "code",
   "execution_count": 1,
   "id": "93ae3f1d-157e-4165-aa8f-de50dea55ab1",
   "metadata": {},
   "outputs": [],
   "source": [
    "#5. Write a Python function to calculate the factorial of a number using recursion."
   ]
  },
  {
   "cell_type": "code",
   "execution_count": 4,
   "id": "abf5c96b-88ea-4349-8274-2a3d167f1f6d",
   "metadata": {},
   "outputs": [
    {
     "name": "stdout",
     "output_type": "stream",
     "text": [
      "3628800\n"
     ]
    }
   ],
   "source": [
    "def factl(a):\n",
    "    if a==0 or a==1:\n",
    "        return 1\n",
    "    else:\n",
    "        return a * factl(a-1)\n",
    "nd=factl(10)\n",
    "print(nd)"
   ]
  },
  {
   "cell_type": "code",
   "execution_count": 5,
   "id": "a653b540-10da-423f-bb7f-e5eaab3b9841",
   "metadata": {},
   "outputs": [],
   "source": [
    "#6. Explain the difference between deepcopy and shallowcopy in Python."
   ]
  },
  {
   "cell_type": "code",
   "execution_count": 6,
   "id": "b9a11042-8174-45b1-ae01-0d37b92a7644",
   "metadata": {},
   "outputs": [
    {
     "name": "stdout",
     "output_type": "stream",
     "text": [
      "[1, 2, 3, 4, 5, 6, 7, 8, 9, 0]\n",
      "[1, 2, 3, 4, 5, 6, 7, 8, 9, 0]\n",
      "[[99, 2, 3], [4, 5, 6]]\n",
      "[[99, 2, 3], [4, 5, 6]]\n"
     ]
    }
   ],
   "source": [
    "#shallow copy\n",
    "import copy\n",
    "a=[1,2,3,4,5,6,7,8,9,10]\n",
    "b=a\n",
    "b[9]=0\n",
    "\n",
    "print(a)\n",
    "print(b)\n",
    "\n",
    "original = [[1, 2, 3], [4, 5, 6]]\n",
    "shallow_copied = copy.copy(original)\n",
    "\n",
    "shallow_copied[0][0] = 99  # Modify a nested object\n",
    "print(original)            # [[99, 2, 3], [4, 5, 6]]\n",
    "print(shallow_copied)      # [[99, 2, 3], [4, 5, 6]]\n"
   ]
  },
  {
   "cell_type": "code",
   "execution_count": 7,
   "id": "4146ad6b-ade5-49f7-867b-48f7b3c47055",
   "metadata": {},
   "outputs": [
    {
     "name": "stdout",
     "output_type": "stream",
     "text": [
      "[[1, 2, 3], [4, 5, 6]]\n",
      "[[99, 2, 3], [4, 5, 6]]\n"
     ]
    }
   ],
   "source": [
    "#deep copy\n",
    "import copy\n",
    "\n",
    "original = [[1, 2, 3], [4, 5, 6]]\n",
    "deep_copied = copy.deepcopy(original)\n",
    "\n",
    "deep_copied[0][0] = 99  # Modify a nested object\n",
    "print(original)          # [[1, 2, 3], [4, 5, 6]]\n",
    "print(deep_copied)       # [[99, 2, 3], [4, 5, 6]]"
   ]
  },
  {
   "cell_type": "code",
   "execution_count": 8,
   "id": "f30d253a-a4a5-4942-89b8-389d6ef0fd51",
   "metadata": {},
   "outputs": [],
   "source": [
    "#7. Write a Python program to count the occurrences of each element in a list."
   ]
  },
  {
   "cell_type": "code",
   "execution_count": 9,
   "id": "b9478fcf-c505-44bc-bb18-a6bbe42f12c3",
   "metadata": {},
   "outputs": [
    {
     "name": "stdout",
     "output_type": "stream",
     "text": [
      "Element occurrences: Counter({4: 4, 3: 3, 2: 2, 1: 1})\n"
     ]
    }
   ],
   "source": [
    "from collections import Counter\n",
    "\n",
    "data = [1, 2, 2, 3, 3, 3, 4, 4, 4, 4]\n",
    "result = Counter(data)\n",
    "print(\"Element occurrences:\", result)"
   ]
  },
  {
   "cell_type": "code",
   "execution_count": 16,
   "id": "64fec2d4-e9d1-4b63-bf3d-6dc778bc1235",
   "metadata": {},
   "outputs": [
    {
     "name": "stdout",
     "output_type": "stream",
     "text": [
      "the 1 has 1 counts\n",
      "the 2 has 2 counts\n",
      "the 3 has 4 counts\n",
      "the 4 has 4 counts\n"
     ]
    }
   ],
   "source": [
    "data = [1, 2, 2, 3, 3, 3, 3, 4, 4, 4, 4]\n",
    "subdata = set(data)\n",
    "count=0\n",
    "for i in subdata:\n",
    "    count = data.count(i)\n",
    "    print(f\"the {i} has {count} counts\")"
   ]
  },
  {
   "cell_type": "code",
   "execution_count": 17,
   "id": "b42d34c6-e44d-40fb-8f4c-df10c511d1eb",
   "metadata": {},
   "outputs": [],
   "source": [
    "#8. Explain the difference between is and ==."
   ]
  },
  {
   "cell_type": "code",
   "execution_count": 18,
   "id": "de4b6813-24a5-48d9-b635-ed4500284213",
   "metadata": {},
   "outputs": [
    {
     "name": "stdout",
     "output_type": "stream",
     "text": [
      "True\n",
      "False\n"
     ]
    }
   ],
   "source": [
    "a = [1, 2, 3]\n",
    "b = a\n",
    "c = [1, 2, 3]\n",
    "\n",
    "print(a is b)  # True, both refer to the same object\n",
    "print(a is c)  # False, they have the same content but are different objects"
   ]
  },
  {
   "cell_type": "code",
   "execution_count": 19,
   "id": "7b7cbc83-6acb-4c1c-808a-50e39888bba5",
   "metadata": {},
   "outputs": [],
   "source": [
    "#9. Write a function to check if a string is a palindrome."
   ]
  },
  {
   "cell_type": "code",
   "execution_count": 23,
   "id": "f3bd569c-859c-48ed-81a7-dab11c0be288",
   "metadata": {},
   "outputs": [
    {
     "name": "stdout",
     "output_type": "stream",
     "text": [
      "zaazaaz is a Palindrome\n"
     ]
    }
   ],
   "source": [
    "a=\"zaazaaz\"\n",
    "if a == a[::-1]:\n",
    "    print(f\"{a} is a Palindrome\")\n",
    "else:\n",
    "    print(f\"{a} is not a Palindrome\")"
   ]
  },
  {
   "cell_type": "code",
   "execution_count": 24,
   "id": "d4d4d84c-b3c8-4974-b756-e24b35297b17",
   "metadata": {},
   "outputs": [
    {
     "name": "stdin",
     "output_type": "stream",
     "text": [
      "Enter a string:  fifif\n"
     ]
    },
    {
     "name": "stdout",
     "output_type": "stream",
     "text": [
      "\"fifif\" is a palindrome.\n"
     ]
    }
   ],
   "source": [
    "def is_palindrome(s):\n",
    "    s = ''.join(c.lower() for c in s if c.isalnum())\n",
    "    return s == s[::-1]\n",
    "\n",
    "if __name__ == \"__main__\":\n",
    "    test_string = input(\"Enter a string: \")\n",
    "    if is_palindrome(test_string):\n",
    "        print(f'\"{test_string}\" is a palindrome.')\n",
    "    else:\n",
    "        print(f'\"{test_string}\" is not a palindrome.')\n"
   ]
  },
  {
   "cell_type": "code",
   "execution_count": 25,
   "id": "a9b8cf32-d6ac-4ab7-a6b8-541e8ace772d",
   "metadata": {},
   "outputs": [],
   "source": [
    "#10. Implement a Python program to merge two sorted lists."
   ]
  },
  {
   "cell_type": "code",
   "execution_count": 27,
   "id": "b44cfe9a-4d51-4ee6-94aa-501d3a53314e",
   "metadata": {},
   "outputs": [
    {
     "name": "stdout",
     "output_type": "stream",
     "text": [
      "[1, 2, 3, 4, 5, 6, 7, 8, 9, 10]\n"
     ]
    }
   ],
   "source": [
    "a=[1,2,3,4,5]\n",
    "b=[6,7,8,9,10]\n",
    "c = a+b\n",
    "print(c)"
   ]
  }
 ],
 "metadata": {
  "kernelspec": {
   "display_name": "Python 3 (ipykernel)",
   "language": "python",
   "name": "python3"
  },
  "language_info": {
   "codemirror_mode": {
    "name": "ipython",
    "version": 3
   },
   "file_extension": ".py",
   "mimetype": "text/x-python",
   "name": "python",
   "nbconvert_exporter": "python",
   "pygments_lexer": "ipython3",
   "version": "3.13.0"
  }
 },
 "nbformat": 4,
 "nbformat_minor": 5
}
