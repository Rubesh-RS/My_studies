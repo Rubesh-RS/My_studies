{
 "cells": [
  {
   "cell_type": "code",
   "execution_count": null,
   "id": "0edff3e4-aca1-420c-a0ce-04b091e4d658",
   "metadata": {},
   "outputs": [],
   "source": []
  }
 ],
 "metadata": {
  "kernelspec": {
   "display_name": "",
   "name": ""
  },
  "language_info": {
   "name": ""
  }
 },
 "nbformat": 4,
 "nbformat_minor": 5
}
