{
 "cells": [
  {
   "cell_type": "code",
   "execution_count": null,
   "id": "2dbd2213-834e-4ccf-92ff-00fff215b2e0",
   "metadata": {},
   "outputs": [],
   "source": [
    " import pandas as pd"
   ]
  },
  {
   "cell_type": "code",
   "execution_count": 1,
   "id": "714d50f6-8b2f-4af0-8394-fa5d8c56276c",
   "metadata": {},
   "outputs": [],
   "source": [
    "#xvariables = feature vectors(input)\n",
    "#yvariables = Target variables(result)"
   ]
  },
  {
   "cell_type": "code",
   "execution_count": 3,
   "id": "561289ae-01b2-4a6a-acc1-a00be2594487",
   "metadata": {},
   "outputs": [],
   "source": [
    "# linear Regression:\n",
    "# y = Wx + b\n",
    "# f(x) = Wx + b\n",
    "\n",
    "# f is linear \n",
    "#residual: e = y - Y "
   ]
  },
  {
   "cell_type": "code",
   "execution_count": 4,
   "id": "81078469-0a96-488b-b3e6-b04d8c2dbe01",
   "metadata": {},
   "outputs": [],
   "source": [
    "#logistical_regression"
   ]
  },
  {
   "cell_type": "code",
   "execution_count": 5,
   "id": "07deb12c-c5de-4271-83d7-818e1bc17dcf",
   "metadata": {},
   "outputs": [],
   "source": [
    "#unsupervised learning:\n",
    "#auto encoding\n",
    "#clustering"
   ]
  },
  {
   "cell_type": "code",
   "execution_count": null,
   "id": "154cfb1d-1d89-4bfb-b200-96b2e146b502",
   "metadata": {},
   "outputs": [],
   "source": [
    "# SVM - support vector machines:\n",
    "# linear, non-probablistic and binary classifiers "
   ]
  },
  {
   "cell_type": "code",
   "execution_count": null,
   "id": "98605f70",
   "metadata": {},
   "outputs": [],
   "source": [
    "\n",
    "Country\tRegion\tSales Person\tDate of Purchase\tTotal\tQuantity\ttemp_dta\n",
    "0\tSingapore\tNorth\tRubesh\t7/30/2014 0:00:00\t54334500\t85\t361\n",
    "Country\tRegion\tSales Person\tDate of Purchase\tTotal\tQuantity\ttemp_dta\n",
    "0\tIndia\tNorth\tJohn\t3/17/2018 0:00:00\t100000\t567\t0\n",
    "1\tUS\tNorth\tBill\t1/21/2010 0:00:00\t120000\t3000\t1\n",
    "2\tUK\tNorth\tThomas\t1/25/2015 0:00:00\t140000\t345\t4\n",
    "3\tAustralia\tEast\tJohn\t6/29/2010 0:00:00\t160000\t1000\t9\n",
    "4\tAfrica\tEast\tBill\t10-01-2016 00:00\t180000\t123\t16\n",
    "5\tSingapore\tEast\tThomas\t08-07-2015 00:00\t200000\t1000\t25\n",
    "6\tMylasia\tWest\tJohn\t6/17/2013 0:00:00\t1000000\t7890\t36\n",
    "7\tIndia\tWest\tBill\t10/26/2012 0:00:00\t240000\t200\t49\n",
    "8\tUS\tWest\tThomas\t6/26/2011 0:00:00\t26000000\t1000\t64\n",
    "9\tUK\tNorth\tJohn\t4/27/2013 0:00:00\t100000\t1000\t81\n",
    "10\tAustralia\tNorth\tBill\t11/25/2013 0:00:00\t120000\t567\t100\n",
    "11\tAfrica\tNorth\tThomas\t08-08-2017 00:00\t140000\t1000\t121\n",
    "12\tSingapore\tEast\tJohn\t01-05-2010 00:00\t160000\t892\t144\n",
    "13\tMylasia\tEast\tBill\t1/31/2014 0:00:00\t180000\t444\t169\n",
    "14\tIndia\tEast\tThomas\t12/19/2013 0:00:00\t200000\t90\t196\n",
    "15\tUS\tWest\tJohn\t09-10-2018 00:00\t220000\t90\t225\n",
    "16\tUK\tWest\tBill\t8/14/2011 0:00:00\t240000\t90\t256\n",
    "17\tAustralia\tWest\tThomas\t3/29/2017 0:00:00\t260000\t90\t289\n",
    "18\tAfrica\tNorth\tJohn\t8/26/2015 0:00:00\t140000\t85\t324\n",
    "19\tSingapore\tNorth\tBill\t7/30/2014 0:00:00\t150000\t85\t361\n",
    "Country\tRegion\tSales Person\tDate of Purchase\tTotal\tQuantity\n",
    "7\tIndia\tWest\tBill\t10/26/2012 0:00:00\t240000\t200\n",
    "14\tIndia\tEast\tThomas\t12/19/2013 0:00:00\t200000\t90"
   ]
  }
 ],
 "metadata": {
  "kernelspec": {
   "display_name": "Python 3 (ipykernel)",
   "language": "python",
   "name": "python3"
  },
  "language_info": {
   "codemirror_mode": {
    "name": "ipython",
    "version": 3
   },
   "file_extension": ".py",
   "mimetype": "text/x-python",
   "name": "python",
   "nbconvert_exporter": "python",
   "pygments_lexer": "ipython3",
   "version": "3.13.0"
  }
 },
 "nbformat": 4,
 "nbformat_minor": 5
}
