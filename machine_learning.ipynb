{
 "cells": [
  {
   "cell_type": "code",
   "execution_count": null,
   "id": "2dbd2213-834e-4ccf-92ff-00fff215b2e0",
   "metadata": {},
   "outputs": [],
   "source": [
    " import pandas as pd"
   ]
  },
  {
   "cell_type": "code",
   "execution_count": 1,
   "id": "714d50f6-8b2f-4af0-8394-fa5d8c56276c",
   "metadata": {},
   "outputs": [],
   "source": [
    "#xvariables = feature vectors(input)\n",
    "#yvariables = Target variables(result)"
   ]
  },
  {
   "cell_type": "code",
   "execution_count": 3,
   "id": "561289ae-01b2-4a6a-acc1-a00be2594487",
   "metadata": {},
   "outputs": [],
   "source": [
    "# linear Regression:\n",
    "# y = Wx + b\n",
    "# f(x) = Wx + b\n",
    "\n",
    "# f is linear \n",
    "#residual: e = y - Y "
   ]
  },
  {
   "cell_type": "code",
   "execution_count": 4,
   "id": "81078469-0a96-488b-b3e6-b04d8c2dbe01",
   "metadata": {},
   "outputs": [],
   "source": [
    "#logistical_regression"
   ]
  },
  {
   "cell_type": "code",
   "execution_count": 5,
   "id": "07deb12c-c5de-4271-83d7-818e1bc17dcf",
   "metadata": {},
   "outputs": [],
   "source": [
    "#unsupervised learning:\n",
    "#auto encoding\n",
    "#clustering"
   ]
  },
  {
   "cell_type": "code",
   "execution_count": null,
   "id": "154cfb1d-1d89-4bfb-b200-96b2e146b502",
   "metadata": {},
   "outputs": [],
   "source": [
    "# SVM - support vector machines:\n",
    "# linear, non-probablistic and binary classifiers "
   ]
  }
 ],
 "metadata": {
  "kernelspec": {
   "display_name": "Python 3 (ipykernel)",
   "language": "python",
   "name": "python3"
  },
  "language_info": {
   "codemirror_mode": {
    "name": "ipython",
    "version": 3
   },
   "file_extension": ".py",
   "mimetype": "text/x-python",
   "name": "python",
   "nbconvert_exporter": "python",
   "pygments_lexer": "ipython3",
   "version": "3.13.0"
  }
 },
 "nbformat": 4,
 "nbformat_minor": 5
}
